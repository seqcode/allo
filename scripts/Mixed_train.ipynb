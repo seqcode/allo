{
  "nbformat": 4,
  "nbformat_minor": 0,
  "metadata": {
    "colab": {
      "provenance": []
    },
    "kernelspec": {
      "name": "python3",
      "display_name": "Python 3"
    },
    "accelerator": "GPU"
  },
  "cells": [
    {
      "cell_type": "code",
      "metadata": {
        "id": "exgU_FLq-xfy"
      },
      "source": [
        "import numpy as np\n",
        "winSize = 500\n",
        "def matPic (line):\n",
        "  cols = line.split(',')\n",
        "  counts = [int(i) for i in cols]\n",
        "  import math\n",
        "  import numpy as np\n",
        "  pic = np.zeros((100, 100), float)\n",
        "  if sum(counts) == 0:\n",
        "    return pic\n",
        "  binSize = math.floor(winSize/100)\n",
        "  binTotal = math.floor(winSize/binSize)\n",
        "  binned = []\n",
        "  #Binning\n",
        "  for i in range (0,binTotal):\n",
        "    position = i*binSize\n",
        "    if i == binTotal-1:\n",
        "      binned.append(np.sum(counts[position:len(counts)]))\n",
        "    else:\n",
        "      binned.append(np.sum(counts[position:position+binSize]))\n",
        "\n",
        "  binned = (99*(binned - np.min(binned))/np.ptp(binned)).astype(int) \n",
        "  for i in range(0,len(binned)):\n",
        "    pic[binned[i],i] = 1\n",
        "  \n",
        "  return pic"
      ],
      "execution_count": null,
      "outputs": []
    },
    {
      "cell_type": "code",
      "metadata": {
        "id": "kfourS6lCNW9"
      },
      "source": [
        "from tensorflow.keras.models import Sequential\n",
        "from tensorflow.keras.layers import Dense\n",
        "import tensorflow\n",
        "\n",
        "# Num rows\n",
        "num_rows = 4834630\n",
        "batch_size = 500\n",
        "\n",
        "def generate_arrays_from_file(path, batchsize):\n",
        "    inputs = []\n",
        "    targets = []\n",
        "    batchcount = 0\n",
        "    while True:\n",
        "        with open(path) as f:\n",
        "            for line in f:\n",
        "                x,y = line.split('\\t')\n",
        "                inputs.append(matPic(x))\n",
        "                targets.append(y)\n",
        "                batchcount += 1\n",
        "                if batchcount > batchsize:\n",
        "                  X = np.array(inputs, dtype='int').reshape(-1,100,100)\n",
        "                  y = np.array(targets, dtype='int')\n",
        "                  yield (X, y)\n",
        "                  inputs = []\n",
        "                  targets = []\n",
        "                  batchcount = 0"
      ],
      "execution_count": null,
      "outputs": []
    },
    {
      "cell_type": "code",
      "metadata": {
        "colab": {
          "base_uri": "https://localhost:8080/"
        },
        "id": "cXKaJxgW50RU",
        "outputId": "e1f9bf99-86bf-4adc-cf08-f0e319271f05"
      },
      "source": [
        "#TensorFlow and tf.keras\n",
        "import tensorflow as tf\n",
        "from tensorflow import keras\n",
        "\n",
        "\n",
        "model = tf.keras.models.Sequential([\n",
        "    tf.keras.layers.Conv1D(2,64, padding='same',\n",
        "                           input_shape=(100,100)),\n",
        "    tf.keras.layers.AveragePooling1D(2, strides=2),\n",
        "    tf.keras.layers.Conv1D(2,32, padding='same'),\n",
        "    tf.keras.layers.Conv1D(2,32, padding='same'),\n",
        "    tf.keras.layers.Dropout(0.5),\n",
        "    tf.keras.layers.Flatten(),\n",
        "    tf.keras.layers.Dense(512, activation='relu'),\n",
        "    tf.keras.layers.Dense(1, activation='sigmoid')\n",
        "])\n",
        "model.compile(loss='binary_crossentropy', optimizer='adam', metrics=['accuracy'])\n",
        "model.fit(generate_arrays_from_file(\"drive/MyDrive/ResearchMahony2023/Allo/broad_training.txt\", batch_size),\n",
        "                    steps_per_epoch=num_rows / batch_size, epochs=1)"
      ],
      "execution_count": null,
      "outputs": [
        {
          "output_type": "stream",
          "name": "stdout",
          "text": [
            "9669/9669 [==============================] - 4811s 497ms/step - loss: 0.1790 - accuracy: 0.9297\n"
          ]
        },
        {
          "output_type": "execute_result",
          "data": {
            "text/plain": [
              "<keras.callbacks.History at 0x7ff1b00cc790>"
            ]
          },
          "metadata": {},
          "execution_count": 6
        }
      ]
    },
    {
      "cell_type": "code",
      "source": [
        "model(np.zeros((100, 100), float).reshape(-1,100,100), training=False).numpy()[0][0]"
      ],
      "metadata": {
        "colab": {
          "base_uri": "https://localhost:8080/"
        },
        "id": "wq9gdML21KKy",
        "outputId": "42e99331-6aa7-4b4d-a39d-c449dea6d6cf"
      },
      "execution_count": null,
      "outputs": [
        {
          "output_type": "execute_result",
          "data": {
            "text/plain": [
              "0.0039243554"
            ]
          },
          "metadata": {},
          "execution_count": 7
        }
      ]
    },
    {
      "cell_type": "code",
      "metadata": {
        "id": "ZYytwsJcxIRb",
        "colab": {
          "base_uri": "https://localhost:8080/"
        },
        "outputId": "fc27c564-b997-4c1e-bf52-de3e6af84020"
      },
      "source": [
        "model_json = model.to_json()\n",
        "with open(\"drive/MyDrive/ResearchMahony2023/mixed.json\", \"w\") as json_file:\n",
        "    json_file.write(model_json)\n",
        "    model.save_weights(\"drive/MyDrive/ResearchMahony2023/mixed.h5\")\n",
        "print(\"Saved model to disk\")"
      ],
      "execution_count": null,
      "outputs": [
        {
          "output_type": "stream",
          "name": "stdout",
          "text": [
            "Saved model to disk\n"
          ]
        }
      ]
    },
    {
      "cell_type": "code",
      "source": [
        "print(tf.__version__)"
      ],
      "metadata": {
        "colab": {
          "base_uri": "https://localhost:8080/"
        },
        "id": "uTkzFGFx-dgI",
        "outputId": "53df794e-dbb0-4dc4-d9f3-cf453732ad58"
      },
      "execution_count": null,
      "outputs": [
        {
          "output_type": "stream",
          "name": "stdout",
          "text": [
            "2.11.0\n"
          ]
        }
      ]
    }
  ]
}