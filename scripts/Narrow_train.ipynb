{
  "nbformat": 4,
  "nbformat_minor": 0,
  "metadata": {
    "colab": {
      "provenance": []
    },
    "kernelspec": {
      "name": "python3",
      "display_name": "Python 3"
    },
    "accelerator": "GPU"
  },
  "cells": [
    {
      "cell_type": "code",
      "metadata": {
        "id": "exgU_FLq-xfy"
      },
      "source": [
        "import numpy as np\n",
        "winSize = 500\n",
        "def matPic (line):\n",
        "  cols = line.split(',')\n",
        "  counts = [int(i) for i in cols]\n",
        "  import math\n",
        "  import numpy as np\n",
        "  pic = np.zeros((100, 100), float)\n",
        "  if sum(counts) == 0:\n",
        "    return pic\n",
        "  binSize = math.floor(winSize/100)\n",
        "  binTotal = math.floor(winSize/binSize)\n",
        "  binned = []\n",
        "  #Binning\n",
        "  for i in range (0,binTotal):\n",
        "    position = i*binSize\n",
        "    if i == binTotal-1:\n",
        "      binned.append(np.sum(counts[position:len(counts)]))\n",
        "    else:\n",
        "      binned.append(np.sum(counts[position:position+binSize]))\n",
        "\n",
        "  binned = (99*(binned - np.min(binned))/np.ptp(binned)).astype(int) \n",
        "  for i in range(0,len(binned)):\n",
        "    pic[binned[i],i] = 1\n",
        "  \n",
        "  return pic"
      ],
      "execution_count": 9,
      "outputs": []
    },
    {
      "cell_type": "code",
      "metadata": {
        "id": "kfourS6lCNW9"
      },
      "source": [
        "from tensorflow.keras.models import Sequential\n",
        "from tensorflow.keras.layers import Dense\n",
        "import tensorflow\n",
        "\n",
        "# Num rows\n",
        "num_rows = 253897\n",
        "batch_size = 500\n",
        "\n",
        "def generate_arrays_from_file(path, batchsize):\n",
        "    inputs = []\n",
        "    targets = []\n",
        "    batchcount = 0\n",
        "    while True:\n",
        "        with open(path) as f:\n",
        "            for line in f:\n",
        "                x,y = line.split('\\t')\n",
        "                inputs.append(matPic(x))\n",
        "                targets.append(y)\n",
        "                batchcount += 1\n",
        "                if batchcount > batchsize:\n",
        "                  X = np.array(inputs, dtype='int').reshape(-1,100,100)\n",
        "                  y = np.array(targets, dtype='int')\n",
        "                  yield (X, y)\n",
        "                  inputs = []\n",
        "                  targets = []\n",
        "                  batchcount = 0"
      ],
      "execution_count": 11,
      "outputs": []
    },
    {
      "cell_type": "code",
      "metadata": {
        "colab": {
          "base_uri": "https://localhost:8080/"
        },
        "id": "cXKaJxgW50RU",
        "outputId": "ea3c706f-3447-4224-c741-cfab8332cf5c"
      },
      "source": [
        "#TensorFlow and tf.keras\n",
        "import tensorflow as tf\n",
        "from tensorflow import keras\n",
        "\n",
        "\n",
        "model = tf.keras.models.Sequential([\n",
        "    tf.keras.layers.Conv1D(2,64, padding='same',\n",
        "                           input_shape=(100,100)),\n",
        "    tf.keras.layers.AveragePooling1D(2, strides=2),\n",
        "    tf.keras.layers.Conv1D(2,32, padding='same'),\n",
        "    tf.keras.layers.Conv1D(2,32, padding='same'),\n",
        "    tf.keras.layers.Dropout(0.5),\n",
        "    tf.keras.layers.Flatten(),\n",
        "    tf.keras.layers.Dense(512, activation='relu'),\n",
        "    tf.keras.layers.Dense(1, activation='sigmoid')\n",
        "])\n",
        "model.compile(loss='binary_crossentropy', optimizer='adam', metrics=['accuracy'])\n",
        "model.fit(generate_arrays_from_file(\"drive/MyDrive/ResearchMahony2023/Allo/narrow_train_new.counts\", batch_size),\n",
        "                    steps_per_epoch=num_rows / batch_size, epochs=3)"
      ],
      "execution_count": 13,
      "outputs": [
        {
          "output_type": "stream",
          "name": "stdout",
          "text": [
            "Epoch 1/3\n",
            "507/507 [==============================] - 255s 480ms/step - loss: 0.1748 - accuracy: 0.9363\n",
            "Epoch 2/3\n",
            "507/507 [==============================] - 244s 480ms/step - loss: 0.1562 - accuracy: 0.9425\n",
            "Epoch 3/3\n",
            "507/507 [==============================] - 240s 473ms/step - loss: 0.1540 - accuracy: 0.9435\n"
          ]
        },
        {
          "output_type": "execute_result",
          "data": {
            "text/plain": [
              "<keras.callbacks.History at 0x7f8d200fcb80>"
            ]
          },
          "metadata": {},
          "execution_count": 13
        }
      ]
    },
    {
      "cell_type": "code",
      "source": [
        "model(np.zeros((100, 100), float).reshape(-1,100,100), training=False).numpy()[0][0]"
      ],
      "metadata": {
        "colab": {
          "base_uri": "https://localhost:8080/"
        },
        "id": "wq9gdML21KKy",
        "outputId": "63aa1848-32b9-4164-ff45-76d377393df3"
      },
      "execution_count": 14,
      "outputs": [
        {
          "output_type": "execute_result",
          "data": {
            "text/plain": [
              "0.011889636"
            ]
          },
          "metadata": {},
          "execution_count": 14
        }
      ]
    },
    {
      "cell_type": "code",
      "metadata": {
        "id": "ZYytwsJcxIRb",
        "colab": {
          "base_uri": "https://localhost:8080/"
        },
        "outputId": "5e1c818e-6b98-485e-8c06-2d2d988b9414"
      },
      "source": [
        "model_json = model.to_json()\n",
        "with open(\"drive/MyDrive/ResearchMahony2023/narrow.json\", \"w\") as json_file:\n",
        "    json_file.write(model_json)\n",
        "    model.save_weights(\"drive/MyDrive/ResearchMahony2023/narrow.h5\")\n",
        "print(\"Saved model to disk\")"
      ],
      "execution_count": 15,
      "outputs": [
        {
          "output_type": "stream",
          "name": "stdout",
          "text": [
            "Saved model to disk\n"
          ]
        }
      ]
    },
    {
      "cell_type": "code",
      "source": [
        "print(tf.__version__)"
      ],
      "metadata": {
        "colab": {
          "base_uri": "https://localhost:8080/"
        },
        "id": "uTkzFGFx-dgI",
        "outputId": "c478b741-1bca-4fcf-8b83-3c12e3e46c05"
      },
      "execution_count": 16,
      "outputs": [
        {
          "output_type": "stream",
          "name": "stdout",
          "text": [
            "2.11.0\n"
          ]
        }
      ]
    }
  ]
}